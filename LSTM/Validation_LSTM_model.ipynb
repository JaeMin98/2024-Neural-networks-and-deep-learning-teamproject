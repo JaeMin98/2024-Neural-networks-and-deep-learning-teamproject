{
 "cells": [
  {
   "cell_type": "code",
   "execution_count": 21,
   "id": "initial_id",
   "metadata": {
    "ExecuteTime": {
     "end_time": "2024-06-05T10:00:35.340701Z",
     "start_time": "2024-06-05T10:00:35.337700Z"
    },
    "collapsed": true
   },
   "outputs": [],
   "source": [
    "#import data\n",
    "\n",
    "# -*- coding: utf-8 -*-\n",
    "\n",
    "#import data\n",
    "import pandas as pd\n",
    "import numpy as np\n",
    "import torch.onnx\n",
    "import os\n",
    "from time import time\n",
    "\n",
    "import torch\n",
    "import torch.nn as nn\n",
    "# import torch.nn.functional as F\n",
    "import matplotlib.pyplot as plt\n",
    "import re\n"
   ]
  },
  {
   "cell_type": "code",
   "execution_count": 22,
   "id": "516355fff04a2e5",
   "metadata": {
    "ExecuteTime": {
     "end_time": "2024-06-05T10:00:36.137699Z",
     "start_time": "2024-06-05T10:00:35.357701Z"
    },
    "collapsed": false
   },
   "outputs": [
    {
     "name": "stdout",
     "output_type": "stream",
     "text": [
      "===trin data file path=== \n",
      " c:\\github_JM\\2024-Neural-networks-and-deep-learning-teamproject\\dataset\\traindata\\train_var_mu.csv\n"
     ]
    }
   ],
   "source": [
    "all_x_data = []\n",
    "all_y_data = []\n",
    "\n",
    "file_path = os.path.join(\"..\",\"dataset\",\"traindata\",\"train_var_mu.csv\")\n",
    "file_path = os.path.abspath(file_path)\n",
    "print(\"===trin data file path===\", \"\\n\", file_path)\n",
    "\n",
    "# Pandas를 이용해 파일 읽기\n",
    "data = pd.read_csv(file_path, sep=\",\", header=0, dtype=float)\n",
    "x_data = torch.tensor(data.iloc[:, [0,2,3,4,5]].values, dtype=torch.float32)\n",
    "y_data = torch.tensor(data.iloc[:, 1:2].values, dtype=torch.float32)\n",
    "\n",
    "# 전체 데이터 리스트에 추가\n",
    "all_x_data.append(x_data)\n",
    "all_y_data.append(y_data)\n",
    "        \n",
    "# 리스트에 저장된 모든 데이터를 하나의 텐서로 결합\n",
    "all_x_data = torch.cat(all_x_data, dim=0)\n",
    "all_y_data = torch.cat(all_y_data, dim=0)\n",
    "\n",
    "# 전체 데이터에 대한 평균과 분산 계산\n",
    "mean_x = torch.mean(all_x_data, dim=0)\n",
    "std_x = torch.std(all_x_data, dim=0)\n",
    "\n",
    "Max_Vy = max(abs(all_y_data))"
   ]
  },
  {
   "cell_type": "code",
   "execution_count": 23,
   "id": "e53064f56d49ab82",
   "metadata": {
    "ExecuteTime": {
     "end_time": "2024-06-05T10:00:36.153708Z",
     "start_time": "2024-06-05T10:00:36.138700Z"
    },
    "collapsed": false
   },
   "outputs": [
    {
     "name": "stdout",
     "output_type": "stream",
     "text": [
      "===trained model path=== \n",
      " c:\\github_JM\\2024-Neural-networks-and-deep-learning-teamproject\\LSTM\\model\\LSTM_16_16_model_1.pt\n"
     ]
    },
    {
     "data": {
      "text/plain": [
       "RecursiveScriptModule(\n",
       "  original_name=LSTMNet\n",
       "  (lstm): RecursiveScriptModule(original_name=LSTM)\n",
       "  (fc): RecursiveScriptModule(original_name=Linear)\n",
       "  (tanh): RecursiveScriptModule(original_name=Tanh)\n",
       ")"
      ]
     },
     "execution_count": 23,
     "metadata": {},
     "output_type": "execute_result"
    }
   ],
   "source": [
    "#학습된 신경망 불러오기\n",
    "model_name = \"LSTM_16_16_model_1\"\n",
    "model_path = os.path.join(\"model\", model_name+\".pt\")\n",
    "model_path = os.path.abspath(model_path)\n",
    "print(\"===trained model path===\", \"\\n\", model_path)\n",
    "\n",
    "model = torch.jit.load(model_path)\n",
    "model.eval()  # 모델을 평가 모드로 설정"
   ]
  },
  {
   "cell_type": "code",
   "execution_count": 24,
   "id": "68de926c668ffae5",
   "metadata": {
    "ExecuteTime": {
     "end_time": "2024-06-05T10:01:12.355276Z",
     "start_time": "2024-06-05T10:00:36.154700Z"
    },
    "collapsed": false
   },
   "outputs": [
    {
     "name": "stdout",
     "output_type": "stream",
     "text": [
      "===test directory path=== \n",
      " c:\\github_JM\\2024-Neural-networks-and-deep-learning-teamproject\\dataset\\testdata\n",
      "===figure path=== \n",
      " c:\\github_JM\\2024-Neural-networks-and-deep-learning-teamproject\\LSTM\\results\\LSTM_16_16_model_1_validation_result\n",
      "Total number of predictions : 56728\n",
      "min Prediction time : 0.0\n",
      "max Prediction time : 0.001999\n",
      "average Prediction time : 0.000119\n",
      "Percentage of predicted time longer than QoS: 12.05%\n"
     ]
    }
   ],
   "source": [
    "Prediction_time_list = []\n",
    "\n",
    "test_directory_path = os.path.join(\"..\", \"dataset\",\"testdata\")\n",
    "test_directory_path = os.path.abspath(test_directory_path)\n",
    "print(\"===test directory path===\", \"\\n\", test_directory_path)\n",
    "\n",
    "figure_save_path = os.path.join(\"results\",model_name+\"_validation_result\")\n",
    "figure_save_path = os.path.abspath(figure_save_path)\n",
    "print(\"===figure path===\", \"\\n\", figure_save_path)\n",
    "\n",
    "if not os.path.exists(figure_save_path):\n",
    "    os.makedirs(figure_save_path)\n",
    "\n",
    "for filename in os.listdir(test_directory_path):\n",
    "    if filename.endswith(\".csv\"):\n",
    "        file_path = os.path.join(test_directory_path, filename)\n",
    "        \n",
    "        test_data = pd.read_csv(file_path, sep=\",\", header=0, dtype=float)\n",
    "        test_x_data = torch.tensor(test_data.iloc[:, [0,2,3,4,5]].values, dtype=torch.float32)\n",
    "        test_y_data = torch.tensor(test_data.iloc[:, 1:2].values, dtype=torch.float32)\n",
    "        test_x_data_normalized = (test_x_data - mean_x) / std_x  # mean과 std는 훈련 데이터셋에서 계산된 값 사용\n",
    "        \n",
    "        predictions_list = []\n",
    "        \n",
    "        with torch.no_grad():  # 그래디언트 계산 비활성화\n",
    "            for i in range(len(test_x_data)):\n",
    "                # 현재 스텝의 테스트 데이터\n",
    "                current_test_data = test_x_data_normalized[i].unsqueeze(0).unsqueeze(0)  # (1, 1, input_size) 형식으로 변환\n",
    "                \n",
    "                # 모델을 통해 예측 수행\n",
    "                start_time = time()\n",
    "                current_prediction = model(current_test_data)\n",
    "                Prediction_time_list.append(time()- start_time)\n",
    "                \n",
    "                real_prediction = current_prediction * Max_Vy\n",
    "                \n",
    "                # 예측값 저장\n",
    "                predictions_list.append(real_prediction.item())\n",
    "    \n",
    "        # 모든 스텝에 대한 예측값을 텐서로 변환\n",
    "        predictions = torch.tensor(predictions_list).unsqueeze(1)\n",
    "        mse1 = np.mean((test_y_data.numpy() - predictions.numpy())**2)\n",
    "        \n",
    "        plt.figure(figsize=(25, 12))\n",
    "        \n",
    "        #첫 번째 plot\n",
    "        # plt.subplot(4, 1, 1)\n",
    "        plt.plot(test_y_data.numpy(), label='Vy_RT', color='black', linestyle='-', linewidth=1)\n",
    "        plt.plot(predictions.numpy(), label='Vy_est', color='blue', linestyle='-.', linewidth=1)\n",
    "        # MSE를 레이블로 표시\n",
    "        plt.text(0.5, 0.95, f'DNN MSE: {mse1:.4f}',\n",
    "                 verticalalignment='bottom', horizontalalignment='right',\n",
    "                 transform=plt.gca().transAxes,\n",
    "                 color='red', fontsize=15)\n",
    "        plt.legend()\n",
    "        plt.title(f'{filename} Est')\n",
    "        plt.xlabel('Time[sec]', fontsize=14, color='black')\n",
    "        plt.ylabel('Lateral Velocity', fontsize=14, color='black')\n",
    "        \n",
    "        # 현재 X 축 눈금 위치를 가져옵니다.\n",
    "        current_xticks = plt.xticks()[0]\n",
    "        \n",
    "        # X 축 레이블을 설정합니다. 레이블은 현재 눈금 위치를 100으로 나눈 값입니다.\n",
    "        plt.xticks(current_xticks, [f'{x/100:.0f}' for x in current_xticks])\n",
    "        \n",
    "        \n",
    "        plt.gca().tick_params(axis='x', colors='black')  # x축 눈금 레이블 색상 변경\n",
    "        plt.gca().tick_params(axis='y', colors='black')  # y축 눈금 레이블 색상 변경\n",
    "\n",
    "        result_filename = filename.replace(\".csv\", \".png\")\n",
    "        save_path = os.path.join(figure_save_path, result_filename)\n",
    "        plt.savefig(save_path)\n",
    "        plt.close()\n",
    "        # 정규 표현식을 사용하여 'scenario' 뒤의 숫자 추출\n",
    "        match = re.search(r'scenario(\\d+)', filename)\n",
    "        if match:\n",
    "            scenario_number = match.group(1)  # 'scenario' 뒤의 숫자 부분\n",
    "            new_filename = f'predictions_scenario{scenario_number}.csv'  # 새 파일 이름 생성\n",
    "            predictions_txt_path = os.path.join(figure_save_path, new_filename)\n",
    "            with open(predictions_txt_path, 'w') as f:\n",
    "                for prediction in predictions_list:\n",
    "                    f.write(f\"{prediction}\\n\")\n",
    "\n",
    "# QoS = 0.000109 sec\n",
    "print(rf\"Total number of predictions : {len(Prediction_time_list)}\")\n",
    "print(rf\"min Prediction time : {round(min(Prediction_time_list),6)}\")\n",
    "print(rf\"max Prediction time : {round(max(Prediction_time_list),6)}\")\n",
    "print(rf\"average Prediction time : {round(sum(Prediction_time_list)/len(Prediction_time_list),6)}\")\n",
    "\n",
    "QoS = 0.000109\n",
    "longer_than_QoS_count = 0\n",
    "for T in Prediction_time_list:\n",
    "    if(T > QoS): longer_than_QoS_count += 1\n",
    "\n",
    "print(rf\"Percentage of predicted time longer than QoS: {round(longer_than_QoS_count/len(Prediction_time_list)*100,2)}%\")"
   ]
  }
 ],
 "metadata": {
  "kernelspec": {
   "display_name": "Python 3",
   "language": "python",
   "name": "python3"
  },
  "language_info": {
   "codemirror_mode": {
    "name": "ipython",
    "version": 3
   },
   "file_extension": ".py",
   "mimetype": "text/x-python",
   "name": "python",
   "nbconvert_exporter": "python",
   "pygments_lexer": "ipython3",
   "version": "3.8.19"
  }
 },
 "nbformat": 4,
 "nbformat_minor": 5
}
