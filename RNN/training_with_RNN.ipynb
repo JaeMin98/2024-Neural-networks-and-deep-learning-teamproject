{
 "cells": [
  {
   "cell_type": "code",
   "execution_count": 8,
   "id": "initial_id",
   "metadata": {
    "ExecuteTime": {
     "end_time": "2024-06-04T14:44:35.337342Z",
     "start_time": "2024-06-04T14:44:35.322356Z"
    },
    "collapsed": true
   },
   "outputs": [],
   "source": [
    "#import data\n",
    "\n",
    "# -*- coding: utf-8 -*-\n",
    "\n",
    "#import data\n",
    "from datetime import datetime\n",
    "import pandas as pd\n",
    "import numpy as np\n",
    "import torch.onnx\n",
    "import os\n",
    "\n",
    "import torch\n",
    "import torch.nn as nn\n",
    "# import torch.nn.functional as F\n",
    "\n",
    "import torch.optim as optim\n",
    "from torch.utils.data import DataLoader, Dataset, TensorDataset\n",
    "from torchvision import datasets, transforms\n",
    "\n"
   ]
  },
  {
   "cell_type": "code",
   "execution_count": 9,
   "id": "6fb8cdced1878464",
   "metadata": {
    "ExecuteTime": {
     "end_time": "2024-06-04T14:44:36.197342Z",
     "start_time": "2024-06-04T14:44:35.354343Z"
    },
    "collapsed": false
   },
   "outputs": [
    {
     "name": "stdout",
     "output_type": "stream",
     "text": [
      "===trin data file path=== \n",
      " c:\\github_JM\\2024-Neural-networks-and-deep-learning-teamproject\\dataset\\traindata\\drive_data_train.csv\n"
     ]
    }
   ],
   "source": [
    "all_x_data = []\n",
    "all_y_data = []\n",
    "\n",
    "file_path = os.path.join(\"..\",\"dataset\",\"traindata\",\"drive_data_train.csv\")\n",
    "file_path = os.path.abspath(file_path)\n",
    "print(\"===trin data file path===\", \"\\n\", file_path)\n",
    "\n",
    "# Pandas를 이용해 파일 읽기\n",
    "data = pd.read_csv(file_path, sep=\",\", header=0, dtype=float)\n",
    "x_data = torch.tensor(data.iloc[:, [0,2,3,4,5]].values, dtype=torch.float32)\n",
    "y_data = torch.tensor(data.iloc[:, 1:2].values, dtype=torch.float32)\n",
    "\n",
    "# 전체 데이터 리스트에 추가\n",
    "all_x_data.append(x_data)\n",
    "all_y_data.append(y_data)\n",
    "        \n",
    "# 리스트에 저장된 모든 데이터를 하나의 텐서로 결합\n",
    "all_x_data = torch.cat(all_x_data, dim=0)\n",
    "all_y_data = torch.cat(all_y_data, dim=0)\n",
    "\n",
    "# 전체 데이터에 대한 평균과 분산 계산\n",
    "mean_x = torch.mean(all_x_data, dim=0)\n",
    "std_x = torch.std(all_x_data, dim=0)\n",
    "\n",
    "Max_Vy = max(abs(all_y_data))"
   ]
  },
  {
   "cell_type": "code",
   "execution_count": 10,
   "id": "a721ff7dc3b06ee8",
   "metadata": {
    "ExecuteTime": {
     "end_time": "2024-06-04T14:44:36.212343Z",
     "start_time": "2024-06-04T14:44:36.199342Z"
    },
    "collapsed": false
   },
   "outputs": [],
   "source": [
    "x_data = (all_x_data - mean_x) / std_x  # mean과 std는 훈련 데이터셋에서 계산된 값 사용\n",
    "y_data = all_y_data/float(Max_Vy)\n",
    "\n",
    "# 배치사이즈 설정\n",
    "batch_size = 512"
   ]
  },
  {
   "cell_type": "code",
   "execution_count": 11,
   "id": "cb1dfdb56278e1b7",
   "metadata": {
    "ExecuteTime": {
     "end_time": "2024-06-04T14:44:36.228349Z",
     "start_time": "2024-06-04T14:44:36.213343Z"
    },
    "collapsed": false
   },
   "outputs": [],
   "source": [
    "class My_dataset(Dataset):\n",
    "    def __init__(self, x_data, y_data, transform=None):  #데이터 셋 선처리 해주는 부분\n",
    "        self.x_data = x_data\n",
    "        self.y_data = y_data\n",
    "        self.transform = transform\n",
    "        self.len = self.y_data.shape[0]\n",
    "\n",
    "    def __getitem__(self, index):  # 데이터 셋 한 개의 데이터를 가져오는 함수 정의하는 부분\n",
    "\n",
    "        if isinstance(index, slice):\n",
    "            # 슬라이스 처리\n",
    "            start_index = index.start\n",
    "            end_index = index.stop\n",
    "        else:\n",
    "            # 단일 인덱스 처리\n",
    "            start_index = index\n",
    "            end_index = start_index + batch_size\n",
    "\n",
    "        end_index = min(end_index, self.len)\n",
    "        x = self.x_data[start_index:end_index]\n",
    "        y = self.y_data[start_index:end_index]\n",
    "\n",
    "        if self.transform:\n",
    "            x, y = self.transform((x, y))\n",
    "            sample = x, y\n",
    "        return sample\n",
    "\n",
    "    def __len__(self):  # 데이터 셋의 길이 적어 주는 부분\n",
    "        return self.len - batch_size + 1\n",
    "\n",
    "\n",
    "class ToTensor:\n",
    "    def __call__(self, sample):\n",
    "        x, y = sample\n",
    "        x = torch.FloatTensor(x)\n",
    "        y = torch.FloatTensor(y)\n",
    "        return x, y\n",
    "\n",
    "\n",
    "# 데이터 로드\n",
    "trans = transforms.Compose([ToTensor()])\n",
    "\n",
    "train_data = My_dataset(x_data, y_data, transform=trans)\n",
    "train_loader = DataLoader(train_data, batch_size=batch_size, shuffle=False)"
   ]
  },
  {
   "cell_type": "code",
   "execution_count": 12,
   "id": "83f81223ab83d0c1",
   "metadata": {
    "ExecuteTime": {
     "end_time": "2024-06-04T14:44:36.244349Z",
     "start_time": "2024-06-04T14:44:36.229344Z"
    },
    "collapsed": false
   },
   "outputs": [],
   "source": [
    "class Net(torch.nn.Module):\n",
    "    def __init__(self):\n",
    "        super(Net, self).__init__()\n",
    "        self.fc1 = torch.nn.Linear(6, 64)\n",
    "        self.fc2 = torch.nn.Linear(64, 64)\n",
    "        self.fc3 = torch.nn.Linear(64, 1)\n",
    "        # self.fc4 = torch.nn.Linear(1, 1)\n",
    "        self.ln1 = torch.nn.LayerNorm(64)\n",
    "        self.ln2 = torch.nn.LayerNorm(64)\n",
    "        # self.ln3 = torch.nn.LayerNorm(32)\n",
    "        self.dropout = torch.nn.Dropout()\n",
    "        self.gelu = torch.nn.GELU()\n",
    "\n",
    "    def forward(self, x):\n",
    "        x = self.gelu(self.ln1(self.fc1(x)))\n",
    "        x = self.dropout(x)\n",
    "        x = self.gelu(self.ln2(self.fc2(x)))\n",
    "        x = self.dropout(x)\n",
    "        # x = self.gelu(self.ln3(self.fc3(x)))\n",
    "        # x = self.dropout(x)\n",
    "        x = torch.tanh(self.fc3(x))\n",
    "        return x\n",
    "\n",
    "# model = Net().to(device)\n",
    "model = Net()\n",
    "Loss = nn.MSELoss()\n",
    "optimizer = optim.Adam(model.parameters(), lr=0.0001, weight_decay=0.00005)\n",
    "\n",
    "scheduler = optim.lr_scheduler.StepLR(optimizer, step_size=50, gamma=0.99)"
   ]
  },
  {
   "cell_type": "code",
   "execution_count": 13,
   "id": "2e1f3c6ee1f0d7ed",
   "metadata": {
    "ExecuteTime": {
     "end_time": "2024-06-04T14:44:36.259352Z",
     "start_time": "2024-06-04T14:44:36.245343Z"
    },
    "collapsed": false
   },
   "outputs": [
    {
     "name": "stdout",
     "output_type": "stream",
     "text": [
      "4929\n"
     ]
    }
   ],
   "source": [
    "total_params = sum(p.numel() for p in model.parameters() if p.requires_grad)\n",
    "print(total_params)"
   ]
  },
  {
   "cell_type": "code",
   "execution_count": 14,
   "id": "e82a54a17fb2c94f",
   "metadata": {
    "ExecuteTime": {
     "end_time": "2024-06-04T22:29:33.029265Z",
     "start_time": "2024-06-04T14:44:36.260342Z"
    },
    "collapsed": false
   },
   "outputs": [
    {
     "name": "stdout",
     "output_type": "stream",
     "text": [
      "===trained model path=== \n",
      " c:\\github_JM\\2024-Neural-networks-and-deep-learning-teamproject\\RNN\\model\\RNN_model_2024_06_05_19_48.pt\n",
      "Training interrupted. Saving the model.\n",
      "Traced model saved.\n"
     ]
    }
   ],
   "source": [
    "now = datetime.now()\n",
    "formatted_time = now.strftime(\"%Y_%m_%d_%H_%M\")\n",
    "\n",
    "model_path = os.path.join(\"model\",\"RNN_model_{0}.pt\".format(formatted_time))\n",
    "model_path = os.path.abspath(model_path)\n",
    "print(\"===trained model path===\", \"\\n\", model_path)\n",
    "\n",
    "losses = []\n",
    "\n",
    "# 훈련 루프\n",
    "num_epochs = 600\n",
    "num_data = len(x_data)\n",
    "\n",
    "batch_predictions = torch.zeros(batch_size, 1)\n",
    "\n",
    "min_loss = 50\n",
    "training_epoch = 0\n",
    "try:\n",
    "    for epoch in range(num_epochs):\n",
    "        losses = []\n",
    "        epoch_losses = []\n",
    "        average_losses = []\n",
    "        prev_targets = torch.zeros(1,1)\n",
    "    \n",
    "        for i in range(0, num_data - batch_size + 1, batch_size):\n",
    "            inputs, targets = train_data[i:i + batch_size]\n",
    "            \n",
    "            optimizer.zero_grad()\n",
    "            \n",
    "            batch_prediction_list = []\n",
    "            current_batch_size = inputs.size(0)\n",
    "            prev_predictions = torch.zeros(1, 1)\n",
    "            prev_targets = prev_targets\n",
    "    \n",
    "            for j in range(batch_size):\n",
    "                zero_predictions = torch.zeros(1, 1)\n",
    "                # bank_err_1 = inputs[j, 1] - prev_predictions\n",
    "    \n",
    "    \n",
    "                if i == 0 and j == 0:\n",
    "                    bank_err_1 = inputs[j, 1] - zero_predictions\n",
    "                    step_inputs = torch.cat([inputs[j].unsqueeze(0), zero_predictions], dim=1)\n",
    "    \n",
    "                elif i >= 1 and j == 0:\n",
    "                    # bank_err_1 = inputs[j, 0] - prev_predictions\n",
    "                    step_inputs = torch.cat([inputs[j].unsqueeze(0), prev_targets], dim=1)\n",
    "    \n",
    "                else:\n",
    "                    step_inputs = torch.cat([inputs[j].unsqueeze(0), prev_targets], dim=1)\n",
    "                    # print(\"step_inputs:\",step_inputs.size())\n",
    "    \n",
    "                step_outputs = model(step_inputs)\n",
    "                prev_targets = targets[j-1].unsqueeze(0)\n",
    "                \n",
    "                prev_predictions = step_outputs\n",
    "    \n",
    "    \n",
    "                batch_prediction_list.append(step_outputs.squeeze())\n",
    "    \n",
    "            batch_predictions = torch.stack(batch_prediction_list).view(-1, 1)\n",
    "    \n",
    "            loss = Loss(batch_predictions, targets)\n",
    "    \n",
    "            epoch_losses.append(loss.item())\n",
    "    \n",
    "            # 역전파 및 최적화\n",
    "            \n",
    "            loss.backward()\n",
    "            optimizer.step()\n",
    "    \n",
    "        average_losses = np.mean(epoch_losses)\n",
    "        losses.append(average_losses)\n",
    "    \n",
    "        if average_losses < min_loss:\n",
    "            min_loss = average_losses\n",
    "            model.eval()  # 모델 평가 모드로 전환\n",
    "            x_dummy = torch.randn(1, 6)\n",
    "            traced_model = torch.jit.trace(model, x_dummy)\n",
    "            traced1_model_path = model_path[:-3] + '_Traced_1.pt'\n",
    "            torch.jit.save(traced_model, traced1_model_path)\n",
    "\n",
    "        if epoch in [100,200,300,400]:\n",
    "            model.eval()  # 모델을 평가 모드로 설정\n",
    "            x_dummy = torch.randn(1, 6)\n",
    "            traced_model = torch.jit.trace(model, x_dummy)\n",
    "            evaluated_model_path = model_path[:-3] + '_Evaluated_' + str(epoch) + '.pt'\n",
    "            torch.jit.save(traced_model, evaluated_model_path)\n",
    "\n",
    "        # Scheduler 업데이트\n",
    "        scheduler.step()\n",
    "        training_epoch = epoch\n",
    "        # 진행 상황 출력 (선택적)\n",
    "        print(f\"Epoch {epoch}, average_losses: {average_losses}\")        \n",
    "\n",
    "except KeyboardInterrupt:\n",
    "    print(\"Training interrupted. Saving the model.\")\n",
    "    model.eval()  # 모델을 평가 모드로 설정\n",
    "    x_dummy = torch.randn(1, 6)\n",
    "    traced_model = torch.jit.trace(model, x_dummy)\n",
    "    # 트레이싱된 모델 저장\n",
    "    traced2_model_path = model_path[:-3] + '_Traced_2.pt'\n",
    "    torch.jit.save(traced_model, traced2_model_path)\n",
    "\n",
    "# 모델 저장\n",
    "model.eval()  # 모델을 평가 모드로 설정\n",
    "x_dummy = torch.randn(1, 6)\n",
    "traced_model = torch.jit.trace(model, x_dummy)\n",
    "\n",
    "# 트레이싱된 모델 저장\n",
    "traced3_model_path = model_path[:-3] + '_Traced_3.pt'\n",
    "torch.jit.save(traced_model, traced3_model_path)\n",
    "print(\"Traced model saved.\")"
   ]
  }
 ],
 "metadata": {
  "kernelspec": {
   "display_name": "Python 3",
   "language": "python",
   "name": "python3"
  },
  "language_info": {
   "codemirror_mode": {
    "name": "ipython",
    "version": 3
   },
   "file_extension": ".py",
   "mimetype": "text/x-python",
   "name": "python",
   "nbconvert_exporter": "python",
   "pygments_lexer": "ipython3",
   "version": "3.8.10"
  }
 },
 "nbformat": 4,
 "nbformat_minor": 5
}
