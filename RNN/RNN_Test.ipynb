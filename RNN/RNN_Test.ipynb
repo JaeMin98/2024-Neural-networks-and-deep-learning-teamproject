{
 "cells": [
  {
   "cell_type": "code",
   "execution_count": 85,
   "id": "initial_id",
   "metadata": {
    "collapsed": true,
    "ExecuteTime": {
     "end_time": "2024-06-05T09:58:16.045489Z",
     "start_time": "2024-06-05T09:58:16.038489Z"
    }
   },
   "outputs": [],
   "source": [
    "#import data\n",
    "\n",
    "# -*- coding: utf-8 -*-\n",
    "\n",
    "#import data\n",
    "\n",
    "import pandas as pd\n",
    "import numpy as np\n",
    "import torch.onnx\n",
    "import os\n",
    "\n",
    "import torch\n",
    "import torch.nn as nn\n",
    "# import torch.nn.functional as F\n",
    "import matplotlib.pyplot as plt\n"
   ]
  },
  {
   "cell_type": "code",
   "outputs": [],
   "source": [
    "# 파일이 위치한 디렉토리 경로\n",
    "directory_path = r'C:\\Users\\kyos1\\Desktop\\Neural Network data\\Pytorch_train_data'"
   ],
   "metadata": {
    "collapsed": false,
    "ExecuteTime": {
     "end_time": "2024-06-05T09:58:16.061495Z",
     "start_time": "2024-06-05T09:58:16.046490Z"
    }
   },
   "id": "263ab34b3beb2ae9",
   "execution_count": 86
  },
  {
   "cell_type": "code",
   "outputs": [],
   "source": [
    "all_x_data = []\n",
    "all_y_data = []\n",
    "\n",
    "for filename in os.listdir(directory_path):\n",
    "    if filename.endswith(\".csv\"):\n",
    "        file_path = os.path.join(directory_path, filename)\n",
    "        # Pandas를 이용해 파일 읽기\n",
    "        data = pd.read_csv(file_path, sep=\",\", header=0, dtype=float)\n",
    "        x_data = torch.tensor(data.iloc[:, [0,2,3,4,5]].values, dtype=torch.float32)\n",
    "        y_data = torch.tensor(data.iloc[:, 1:2].values, dtype=torch.float32)\n",
    "        \n",
    "        # 전체 데이터 리스트에 추가\n",
    "        all_x_data.append(x_data)\n",
    "        all_y_data.append(y_data)\n",
    "        \n",
    "# 리스트에 저장된 모든 데이터를 하나의 텐서로 결합\n",
    "all_x_data = torch.cat(all_x_data, dim=0)\n",
    "all_y_data = torch.cat(all_y_data, dim=0)\n",
    "\n",
    "# 전체 데이터에 대한 평균과 분산 계산\n",
    "mean_x = torch.mean(all_x_data, dim=0)\n",
    "std_x = torch.std(all_x_data, dim=0)\n",
    "\n",
    "Max_Vy = max(abs(all_y_data))"
   ],
   "metadata": {
    "collapsed": false,
    "ExecuteTime": {
     "end_time": "2024-06-05T09:58:16.791488Z",
     "start_time": "2024-06-05T09:58:16.062490Z"
    }
   },
   "id": "3101e58f071f09b6",
   "execution_count": 87
  },
  {
   "cell_type": "code",
   "outputs": [
    {
     "data": {
      "text/plain": "RecursiveScriptModule(\n  original_name=Net\n  (fc1): RecursiveScriptModule(original_name=Linear)\n  (fc2): RecursiveScriptModule(original_name=Linear)\n  (fc3): RecursiveScriptModule(original_name=Linear)\n  (ln1): RecursiveScriptModule(original_name=LayerNorm)\n  (ln2): RecursiveScriptModule(original_name=LayerNorm)\n  (dropout): RecursiveScriptModule(original_name=Dropout)\n  (gelu): RecursiveScriptModule(original_name=GELU)\n)"
     },
     "execution_count": 88,
     "metadata": {},
     "output_type": "execute_result"
    }
   ],
   "source": [
    "#학습된 신경망 불러오기 \n",
    "loaded_model = torch.jit.load(r'C:\\Users\\kyos1\\Desktop\\Neural Network data\\RNN_model_1.pt')\n",
    "model = loaded_model\n",
    "model.eval()  # 모델을 평가 모드로 설정"
   ],
   "metadata": {
    "collapsed": false,
    "ExecuteTime": {
     "end_time": "2024-06-05T09:58:16.807489Z",
     "start_time": "2024-06-05T09:58:16.792490Z"
    }
   },
   "id": "8341a01f5eb935a9",
   "execution_count": 88
  },
  {
   "cell_type": "code",
   "outputs": [],
   "source": [
    "# 변수 선언\n",
    "prev_predictions = torch.zeros(1, 1)\n",
    "prev1_predictions = torch.zeros(1, 1)"
   ],
   "metadata": {
    "collapsed": false,
    "ExecuteTime": {
     "end_time": "2024-06-05T09:58:16.823495Z",
     "start_time": "2024-06-05T09:58:16.808489Z"
    }
   },
   "id": "17b9599872c2557e",
   "execution_count": 89
  },
  {
   "cell_type": "code",
   "outputs": [],
   "source": [
    "test_directory_path = r'C:\\Users\\kyos1\\Desktop\\Neural Network data\\Pytorch_train_data'\n",
    "\n",
    "for filename in os.listdir(test_directory_path):\n",
    "    if filename.endswith(\".csv\"):\n",
    "        file_path = os.path.join(test_directory_path, filename)\n",
    "        \n",
    "        test_data = pd.read_csv(file_path, sep=\",\", header=0, dtype=float)\n",
    "        #test_x_data = torch.tensor(test_data.iloc[:, 0:9].values, dtype=torch.float32)\n",
    "        test_x_data = torch.tensor(test_data.iloc[:, [0,2,3,4,5]].values, dtype=torch.float32)\n",
    "        test_y_data = torch.tensor(test_data.iloc[:, 1:2].values, dtype=torch.float32)\n",
    "        train_x_data_normalized = (test_x_data - mean_x) / std_x  # mean과 std는 훈련 데이터셋에서 계산된 값 사용\n",
    "        # y_est = data['t_Vy_est'].values\n",
    "        predictions_list = []\n",
    "\n",
    "        with torch.no_grad():  # 그래디언트 계산 비활성화\n",
    "            for i in range(len(test_x_data)):\n",
    "                # 현재 스텝의 테스트 데이터\n",
    "                current_test_data = train_x_data_normalized[i].unsqueeze(0)\n",
    "                # bank_err_1 = train_x_data_normalized[i, 1] - prev_predictions\n",
    "                # 현재 스텝의 입력 데이터 준비\n",
    "                current_input = torch.cat([current_test_data, prev_predictions], dim=1)\n",
    "        \n",
    "                # 모델을 통해 예측 수행\n",
    "                current_prediction = model(current_input)\n",
    "                real_prediction = current_prediction * Max_Vy\n",
    "                # 예측값 저장\n",
    "                predictions_list.append(real_prediction.item())\n",
    "\n",
    "                prev_predictions = current_prediction\n",
    "    \n",
    "        # 모든 스텝에 대한 예측값을 텐서로 변환\n",
    "        predictions = torch.tensor(predictions_list).unsqueeze(1)\n",
    "\n",
    "        mse1 = np.mean((test_y_data.numpy() - predictions.numpy())**2)\n",
    "        \n",
    "        plt.figure(figsize=(25, 12))\n",
    "        \n",
    "        #첫 번째 plot\n",
    "        # plt.subplot(4, 1, 1)\n",
    "        plt.plot(test_y_data.numpy(), label='Vy_RT', color='black', linestyle='-', linewidth=1)\n",
    "        plt.plot(predictions.numpy(), label='Vy_est', color='blue', linestyle='-.', linewidth=1)\n",
    "        # plt.plot(y_est, label='y_est', color='black', linestyle='--', linewidth=0.8)\n",
    "        # MSE를 레이블로 표시\n",
    "        plt.text(0.5, 0.95, f'DNN MSE: {mse1:.4f}',\n",
    "                 verticalalignment='bottom', horizontalalignment='right',\n",
    "                 transform=plt.gca().transAxes,\n",
    "                 color='red', fontsize=15)\n",
    "        plt.legend()\n",
    "        plt.title(f'{filename} Est')\n",
    "        plt.xlabel('Time[sec]', fontsize=14, color='white')\n",
    "        plt.ylabel('Lateral Velocity', fontsize=14, color='white')\n",
    "\n",
    "        plt.gca().tick_params(axis='x', colors='white')  # x축 눈금 레이블 색상 변경\n",
    "        plt.gca().tick_params(axis='y', colors='white')  # y축 눈금 레이블 색상 변경\n",
    "\n",
    "        result_filename = filename.replace(\".csv\", \".png\")\n",
    "        save_path = os.path.join(test_directory_path, result_filename)\n",
    "        plt.savefig(save_path)\n",
    "        plt.close()"
   ],
   "metadata": {
    "collapsed": false,
    "ExecuteTime": {
     "end_time": "2024-06-05T09:58:52.718525Z",
     "start_time": "2024-06-05T09:58:16.824503Z"
    }
   },
   "id": "c5077b7d7d8c881c",
   "execution_count": 90
  }
 ],
 "metadata": {
  "kernelspec": {
   "display_name": "Python 3",
   "language": "python",
   "name": "python3"
  },
  "language_info": {
   "codemirror_mode": {
    "name": "ipython",
    "version": 2
   },
   "file_extension": ".py",
   "mimetype": "text/x-python",
   "name": "python",
   "nbconvert_exporter": "python",
   "pygments_lexer": "ipython2",
   "version": "2.7.6"
  }
 },
 "nbformat": 4,
 "nbformat_minor": 5
}
