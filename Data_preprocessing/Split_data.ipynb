{
 "cells": [
  {
   "cell_type": "code",
   "execution_count": 1,
   "id": "initial_id",
   "metadata": {
    "ExecuteTime": {
     "end_time": "2024-06-04T14:14:42.577643Z",
     "start_time": "2024-06-04T14:14:41.726635Z"
    },
    "collapsed": true
   },
   "outputs": [],
   "source": [
    "import pandas as pd\n",
    "import numpy as np\n",
    "import torch.onnx\n",
    "import os\n",
    "\n",
    "import torch\n",
    "import torch.nn as nn\n",
    "# import torch.nn.functional as F\n",
    "\n",
    "import torch.optim as optim\n",
    "from torch.utils.data import DataLoader, Dataset, TensorDataset\n",
    "from torchvision import datasets, transforms"
   ]
  },
  {
   "cell_type": "code",
   "execution_count": 2,
   "id": "fb0b35fcad54b678",
   "metadata": {
    "ExecuteTime": {
     "end_time": "2024-06-04T14:14:42.593635Z",
     "start_time": "2024-06-04T14:14:42.578635Z"
    },
    "collapsed": false
   },
   "outputs": [],
   "source": [
    "# 파일이 위치한 디렉토리 경로\n",
    "directory_path = r'C:\\Users\\kyos1\\Desktop\\Neural Network data\\Pytorch_train_data'"
   ]
  },
  {
   "cell_type": "code",
   "execution_count": 3,
   "id": "dc75609225ad4cef",
   "metadata": {
    "ExecuteTime": {
     "end_time": "2024-06-04T14:14:44.862724Z",
     "start_time": "2024-06-04T14:14:44.856724Z"
    },
    "collapsed": false
   },
   "outputs": [],
   "source": [
    "target_filename = \"drive_data_tot_1.0_10ms.csv\"\n",
    "file_path = os.path.join(directory_path, target_filename)"
   ]
  },
  {
   "cell_type": "code",
   "execution_count": 4,
   "id": "dbc044b361a2b3de",
   "metadata": {
    "ExecuteTime": {
     "end_time": "2024-06-04T14:14:46.520178Z",
     "start_time": "2024-06-04T14:14:46.366101Z"
    },
    "collapsed": false
   },
   "outputs": [],
   "source": [
    "# 파일 읽기\n",
    "data = pd.read_csv(file_path, sep=\",\", header=0, dtype=float)"
   ]
  },
  {
   "cell_type": "code",
   "execution_count": 5,
   "id": "cb3e373dabb54588",
   "metadata": {
    "ExecuteTime": {
     "end_time": "2024-06-04T14:14:48.486243Z",
     "start_time": "2024-06-04T14:14:47.380223Z"
    },
    "collapsed": false
   },
   "outputs": [],
   "source": [
    "# 데이터 분리\n",
    "num_samples = len(data)\n",
    "split_index = int(num_samples * 0.8)\n",
    "\n",
    "train_data = data.iloc[:split_index]\n",
    "test_data = data.iloc[split_index:]\n",
    "\n",
    "# 훈련 데이터와 테스트 데이터로 나누어 저장\n",
    "train_data.to_csv(os.path.join(directory_path, \"drive_data_train.csv\"), index=False)\n",
    "test_data.to_csv(os.path.join(directory_path, \"drive_data_test.csv\"), index=False)"
   ]
  },
  {
   "cell_type": "code",
   "execution_count": null,
   "id": "11f9289a99ddb134",
   "metadata": {
    "collapsed": false
   },
   "outputs": [],
   "source": []
  }
 ],
 "metadata": {
  "kernelspec": {
   "display_name": "Python 3",
   "language": "python",
   "name": "python3"
  },
  "language_info": {
   "codemirror_mode": {
    "name": "ipython",
    "version": 3
   },
   "file_extension": ".py",
   "mimetype": "text/x-python",
   "name": "python",
   "nbconvert_exporter": "python",
   "pygments_lexer": "ipython3",
   "version": "3.8.10"
  }
 },
 "nbformat": 4,
 "nbformat_minor": 5
}
